{
 "cells": [
  {
   "cell_type": "markdown",
   "id": "d5896705",
   "metadata": {},
   "source": [
    "## 넘파이(Numpy)\n",
    "----\n",
    "* 넘파이(Numpy): **수치 데이터**를 다루는 파이썬 패키지"
   ]
  },
  {
   "cell_type": "code",
   "execution_count": null,
   "id": "99a764f7",
   "metadata": {},
   "outputs": [],
   "source": [
    "## 사용 방법\n",
    "import numpy as np"
   ]
  },
  {
   "cell_type": "markdown",
   "id": "93c1d138",
   "metadata": {},
   "source": [
    "\n",
    "* ```numpy.ndarray```라는 다차원 행렬 자료구조를 표현하는 class가 패키지 내부에 존재\n",
    "* 계산 속도가 순수 파이썬에 비해 압도적으로 빠름"
   ]
  },
  {
   "cell_type": "markdown",
   "id": "d2cd37a3",
   "metadata": {},
   "source": [
    "### 1) np.array()"
   ]
  },
  {
   "cell_type": "code",
   "execution_count": null,
   "id": "638ca8e3",
   "metadata": {},
   "outputs": [],
   "source": [
    "# 1차원 배열\n",
    "vec = np.array([1, 2, 3, 4, 5])\n",
    "print(vec)\n",
    "print(vec.shape)"
   ]
  },
  {
   "cell_type": "code",
   "execution_count": null,
   "id": "0109a982",
   "metadata": {},
   "outputs": [],
   "source": [
    "# 2차원 배열\n",
    "mat = np.array([[1, 2, 3], [4, 5, 6]])\n",
    "print(mat)\n",
    "print(mat.shape)"
   ]
  },
  {
   "cell_type": "code",
   "execution_count": null,
   "id": "424aa3f8",
   "metadata": {},
   "outputs": [],
   "source": [
    "print('vec의 타입 :', type(vec))\n",
    "print('mat의 타입 :', type(mat))"
   ]
  },
  {
   "cell_type": "code",
   "execution_count": null,
   "id": "9410d298",
   "metadata": {},
   "outputs": [],
   "source": [
    "print('vec의 축의 개수 :', vec.ndim)\n",
    "print('mat의 축의 개수 :', mat.ndim)"
   ]
  },
  {
   "cell_type": "markdown",
   "id": "fe0cfc88",
   "metadata": {},
   "source": [
    "### 2) ndarray의 초기화"
   ]
  },
  {
   "cell_type": "code",
   "execution_count": null,
   "id": "79c4c6b4",
   "metadata": {},
   "outputs": [],
   "source": [
    "zero_mat = np.zeros((2, 3))\n",
    "print(zero_mat)"
   ]
  },
  {
   "cell_type": "code",
   "execution_count": null,
   "id": "35c7a98a",
   "metadata": {},
   "outputs": [],
   "source": [
    "one_mat = np.ones((2, 3))\n",
    "print(one_mat)"
   ]
  },
  {
   "cell_type": "code",
   "execution_count": null,
   "id": "d110947e",
   "metadata": {},
   "outputs": [],
   "source": [
    "same_value_mat = np.full((2, 3), 7)\n",
    "print(same_value_mat)"
   ]
  },
  {
   "cell_type": "code",
   "execution_count": null,
   "id": "f8e03ae3",
   "metadata": {},
   "outputs": [],
   "source": [
    "eye_mat = np.eye(3)   # 3x3 단위 행렬(identity matrix)\n",
    "print(eye_mat)"
   ]
  },
  {
   "cell_type": "code",
   "execution_count": null,
   "id": "42d95af6",
   "metadata": {},
   "outputs": [],
   "source": [
    "random_mat = np.random.rand(2, 3)  # 0~1 사이의 균등 분포에서 난수 생성\n",
    "print(random_mat)"
   ]
  },
  {
   "cell_type": "markdown",
   "id": "1dd3cfc8",
   "metadata": {},
   "source": [
    "### 3) np.arange(n)"
   ]
  },
  {
   "cell_type": "code",
   "execution_count": null,
   "id": "2319843b",
   "metadata": {},
   "outputs": [],
   "source": [
    "range_vec = np.arange(10)  # 0~9까지의 정수로 이루어진 1차원 배열 생성\n",
    "print(range_vec)"
   ]
  },
  {
   "cell_type": "markdown",
   "id": "dc859d0d",
   "metadata": {},
   "source": [
    "### 4) np.reshape()"
   ]
  },
  {
   "cell_type": "code",
   "execution_count": null,
   "id": "4386f6b1",
   "metadata": {},
   "outputs": [],
   "source": [
    "reshaped_mat = np.reshape(np.arange(30), (5, 6))\n",
    "print(reshaped_mat)"
   ]
  },
  {
   "cell_type": "markdown",
   "id": "e214cc15",
   "metadata": {},
   "source": [
    "### 5) Numpy 슬라이싱, 인덱싱"
   ]
  },
  {
   "cell_type": "code",
   "execution_count": null,
   "id": "ebef57ca",
   "metadata": {},
   "outputs": [],
   "source": [
    "mat = np.array([[1, 2, 3], [4, 5, 6], [7, 8, 9]])\n",
    "print(mat)"
   ]
  },
  {
   "cell_type": "code",
   "execution_count": null,
   "id": "2ed843ca",
   "metadata": {},
   "outputs": [],
   "source": [
    "slicing_mat = mat[0,:]  # 첫 번째 행\n",
    "print(slicing_mat)"
   ]
  },
  {
   "cell_type": "code",
   "execution_count": null,
   "id": "26054e31",
   "metadata": {},
   "outputs": [],
   "source": [
    "indexing_mat = mat[[0, 2], [0, 1]]   # (0,0), (2,1) 위치의 원소 선택\n",
    "print(indexing_mat)"
   ]
  },
  {
   "cell_type": "code",
   "execution_count": null,
   "id": "f85cb28e",
   "metadata": {},
   "outputs": [],
   "source": [
    "indexing_mat = mat[[0, 2], :]  # 첫 번째 행과 세 번째 행\n",
    "print(indexing_mat)"
   ]
  },
  {
   "cell_type": "markdown",
   "id": "bbb5b6fd",
   "metadata": {},
   "source": [
    "### 6) Numpy 연산"
   ]
  },
  {
   "cell_type": "code",
   "execution_count": null,
   "id": "1092ea77",
   "metadata": {},
   "outputs": [],
   "source": [
    "x = np.array([1,2,3])\n",
    "y = np.array([4,5,6])\n",
    "\n",
    "print(x + y)  # 요소별 덧셈\n",
    "print(x - y)  # 요소별 뺄셈\n",
    "print(x * y)  # 요소별 곱셈\n",
    "print(x / y)  # 요소별 나눗셈"
   ]
  },
  {
   "cell_type": "code",
   "execution_count": null,
   "id": "42526a07",
   "metadata": {},
   "outputs": [],
   "source": [
    "print(np.add(x, y))  # 요소별 덧셈\n",
    "print(np.subtract(x, y))  # 요소별 뺄셈\n",
    "print(np.multiply(x, y))  # 요소별 곱셈\n",
    "print(np.divide(x, y))  # 요소별 나눗셈"
   ]
  },
  {
   "cell_type": "code",
   "execution_count": null,
   "id": "4c0e8027",
   "metadata": {},
   "outputs": [],
   "source": [
    "## 행렬곱\n",
    "A = np.array([[1, 2], [3, 4]])\n",
    "B = np.array([[5, 6], [7, 8]])\n",
    "print(np.dot(A, B))  # 행렬곱"
   ]
  },
  {
   "cell_type": "code",
   "execution_count": null,
   "id": "aa2c2ab8",
   "metadata": {},
   "outputs": [],
   "source": []
  }
 ],
 "metadata": {
  "kernelspec": {
   "display_name": "py310",
   "language": "python",
   "name": "python3"
  },
  "language_info": {
   "codemirror_mode": {
    "name": "ipython",
    "version": 3
   },
   "file_extension": ".py",
   "mimetype": "text/x-python",
   "name": "python",
   "nbconvert_exporter": "python",
   "pygments_lexer": "ipython3",
   "version": "3.10.18"
  }
 },
 "nbformat": 4,
 "nbformat_minor": 5
}
