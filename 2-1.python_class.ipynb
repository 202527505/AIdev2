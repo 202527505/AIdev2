{
 "cells": [
  {
   "cell_type": "markdown",
   "id": "8472910b",
   "metadata": {},
   "source": [
    "## Class\n",
    "**객체 지향 프로그래밍 (Object-Oriented Programming, OOP)**\n",
    "객체 지향 프로그래밍은 데이터와 그 데이터를 조작하는 함수(메서드)를 하나의 객체로 묶어서 관리하는 프로그래밍 패러다임이다.\n",
    "\n",
    "Class는 객체 지향 프로그래밍을 위한 python의 문법적 도구\n",
    "\n",
    "자동차를 class로 구현한다면?\n",
    "```python\n",
    "class 자동차:\n",
    "    # 자동차의 속성\n",
    "    색상\n",
    "    속도\n",
    "    # 자동차의 기능\n",
    "    속도올리기()\n",
    "    속도내리기()\n",
    "```"
   ]
  },
  {
   "cell_type": "code",
   "execution_count": 8,
   "id": "54d40a87",
   "metadata": {},
   "outputs": [],
   "source": [
    "class Car:\n",
    "    # 자동차의 필드\n",
    "    color = \"\"\n",
    "    speed = 0\n",
    "\n",
    "    # 자동차의 메서드(함수)\n",
    "    def upSpeed(self, inc):\n",
    "        self.speed += inc\n",
    "    \n",
    "    def downSpeed(self, dec):\n",
    "        self.speed -= dec"
   ]
  },
  {
   "cell_type": "code",
   "execution_count": 9,
   "id": "79630456",
   "metadata": {},
   "outputs": [
    {
     "name": "stdout",
     "output_type": "stream",
     "text": [
      "Color of my car is white and the present speed of my car is 30\n",
      "Color of your car is black and the present speed of your car is 60\n"
     ]
    }
   ],
   "source": [
    "my_car = Car()\n",
    "your_car = Car()\n",
    "\n",
    "my_car.color = \"white\"\n",
    "your_car.color = \"black\"\n",
    "# my_car.speed = 0\n",
    "# your_car.speed = 0\n",
    "\n",
    "my_car.upSpeed(30)\n",
    "your_car.upSpeed(60)\n",
    "\n",
    "print(f\"Color of my car is {my_car.color} and the present speed of my car is {my_car.speed}\")\n",
    "print(f\"Color of your car is {your_car.color} and the present speed of your car is {your_car.speed}\")"
   ]
  },
  {
   "cell_type": "markdown",
   "id": "24334a87",
   "metadata": {},
   "source": [
    "### 생성자\n",
    "인스턴스를 생성하면서 필드값을 초기화시키는 함수"
   ]
  },
  {
   "cell_type": "code",
   "execution_count": null,
   "id": "f5faecc6",
   "metadata": {},
   "outputs": [],
   "source": [
    "class Car:\n",
    "    # 생성자\n",
    "    def __init__(self):\n",
    "        self.color = \"white\"\n",
    "        self.speed = 0\n",
    "    # 자동차의 메서드(함수)\n",
    "    def upSpeed(self, inc):\n",
    "        self.speed += inc\n",
    "    \n",
    "    def downSpeed(self, dec):\n",
    "        self.speed -= dec"
   ]
  },
  {
   "cell_type": "code",
   "execution_count": null,
   "id": "225a77e9",
   "metadata": {},
   "outputs": [],
   "source": [
    "class Car:\n",
    "    # 생성자 with argument\n",
    "    def __init__(self, color):\n",
    "        self.color = color\n",
    "        self.speed = 0\n",
    "    # 자동차의 메서드(함수)\n",
    "    def upSpeed(self, inc):\n",
    "        self.speed += inc\n",
    "    \n",
    "    def downSpeed(self, dec):\n",
    "        self.speed -= dec"
   ]
  },
  {
   "cell_type": "code",
   "execution_count": null,
   "id": "ee439b3a",
   "metadata": {},
   "outputs": [],
   "source": [
    "my_car = Car(\"white\")\n",
    "your_car = Car(\"black\")"
   ]
  },
  {
   "cell_type": "markdown",
   "id": "4fa945f8",
   "metadata": {},
   "source": [
    "### 실습\n",
    "\n",
    "1. 적절한 종류의 class를 하나 만들기 (차 제외!)\n",
    "2. 2개 이상의 필드를 정의하고 생성자에서 초기화할 것\n",
    "3. 2개 이상의 매서드를 정의\n",
    "4. 3개 이상의 instance를 생성하기 "
   ]
  },
  {
   "cell_type": "code",
   "execution_count": 10,
   "id": "06739050",
   "metadata": {},
   "outputs": [],
   "source": [
    "# WRITE YOUR CODE HERE!"
   ]
  }
 ],
 "metadata": {
  "kernelspec": {
   "display_name": "py310",
   "language": "python",
   "name": "python3"
  },
  "language_info": {
   "codemirror_mode": {
    "name": "ipython",
    "version": 3
   },
   "file_extension": ".py",
   "mimetype": "text/x-python",
   "name": "python",
   "nbconvert_exporter": "python",
   "pygments_lexer": "ipython3",
   "version": "3.10.18"
  }
 },
 "nbformat": 4,
 "nbformat_minor": 5
}
