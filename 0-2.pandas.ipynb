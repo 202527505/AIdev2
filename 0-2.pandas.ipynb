{
 "cells": [
  {
   "cell_type": "markdown",
   "id": "6910b6ad",
   "metadata": {},
   "source": [
    "## 판다스(Pandas)\n",
    "----\n",
    "* 판다스: 파이썬 데이터 처리를 위한 패키지"
   ]
  },
  {
   "cell_type": "code",
   "execution_count": 2,
   "id": "938af2ad",
   "metadata": {},
   "outputs": [],
   "source": [
    "## 사용방법\n",
    "import pandas as pd"
   ]
  },
  {
   "cell_type": "markdown",
   "id": "fe8e6467",
   "metadata": {},
   "source": [
    "* 총 세 가지의 데이터 구조 사용\n",
    "    - 시리즈(Series)\n",
    "    - 데이터프레임(DataFrame)\n",
    "    - 패널(Panel)\n",
    "\n",
    "이 중 데이터프레임이 가장 많이 사용됨"
   ]
  },
  {
   "cell_type": "markdown",
   "id": "c654e1bf",
   "metadata": {},
   "source": [
    "### 1) 데이터프레임(DataFrame)\n",
    "\n",
    "* 행(index)과 열(column)을 가지는 자료구조\n",
    "* 데이터 각각을 값(value)이라고 함"
   ]
  },
  {
   "cell_type": "code",
   "execution_count": 3,
   "id": "7d08413a",
   "metadata": {},
   "outputs": [
    {
     "name": "stdout",
     "output_type": "stream",
     "text": [
      "데이터프레임 출력 :\n",
      "------------------\n",
      "       A  B  C\n",
      "one    1  2  3\n",
      "two    4  5  6\n",
      "three  7  8  9\n"
     ]
    }
   ],
   "source": [
    "values = [[1, 2, 3], [4, 5, 6], [7, 8, 9]]\n",
    "index = ['one', 'two', 'three']\n",
    "columns = ['A', 'B', 'C']\n",
    "\n",
    "df = pd.DataFrame(values, index=index, columns=columns)\n",
    "\n",
    "print('데이터프레임 출력 :')\n",
    "print('-'*18)\n",
    "print(df)\n"
   ]
  },
  {
   "cell_type": "code",
   "execution_count": 4,
   "id": "aea30c4a",
   "metadata": {},
   "outputs": [
    {
     "name": "stdout",
     "output_type": "stream",
     "text": [
      "데이터프레임의 인덱스 : Index(['one', 'two', 'three'], dtype='object')\n",
      "데이터프레임의 열이름: Index(['A', 'B', 'C'], dtype='object')\n",
      "데이터프레임의 값 :\n",
      "------------------\n",
      "[[1 2 3]\n",
      " [4 5 6]\n",
      " [7 8 9]]\n"
     ]
    }
   ],
   "source": [
    "print('데이터프레임의 인덱스 : {}'.format(df.index))\n",
    "print('데이터프레임의 열이름: {}'.format(df.columns))\n",
    "print('데이터프레임의 값 :')\n",
    "print('-'*18)\n",
    "print(df.values)\n"
   ]
  },
  {
   "cell_type": "markdown",
   "id": "d27e50b2",
   "metadata": {},
   "source": [
    "### 2) 데이터프레임의 생성\n",
    "* ```List```, ```Dict```, ```numpy.ndarray``` 등을 이용해 생성"
   ]
  },
  {
   "cell_type": "code",
   "execution_count": 5,
   "id": "eefe23a5",
   "metadata": {},
   "outputs": [
    {
     "name": "stdout",
     "output_type": "stream",
     "text": [
      "      0         1      2\n",
      "0  1000     Steve  90.72\n",
      "1  1001     James  78.09\n",
      "2  1002    Doyeon  98.43\n",
      "3  1003      Jane  64.19\n",
      "4  1004  Pilwoong  81.30\n",
      "5  1005      Tony  99.14\n"
     ]
    }
   ],
   "source": [
    "# 리스트로 생성하기\n",
    "data = [\n",
    "    ['1000', 'Steve', 90.72], \n",
    "    ['1001', 'James', 78.09], \n",
    "    ['1002', 'Doyeon', 98.43], \n",
    "    ['1003', 'Jane', 64.19], \n",
    "    ['1004', 'Pilwoong', 81.30],\n",
    "    ['1005', 'Tony', 99.14],\n",
    "]\n",
    "\n",
    "df = pd.DataFrame(data)\n",
    "print(df)\n"
   ]
  },
  {
   "cell_type": "code",
   "execution_count": 6,
   "id": "fe95e9cc",
   "metadata": {},
   "outputs": [
    {
     "name": "stdout",
     "output_type": "stream",
     "text": [
      "     학번        이름     점수\n",
      "0  1000     Steve  90.72\n",
      "1  1001     James  78.09\n",
      "2  1002    Doyeon  98.43\n",
      "3  1003      Jane  64.19\n",
      "4  1004  Pilwoong  81.30\n",
      "5  1005      Tony  99.14\n"
     ]
    }
   ],
   "source": [
    "df = pd.DataFrame(data, columns=['학번', '이름', '점수'])\n",
    "print(df)"
   ]
  },
  {
   "cell_type": "code",
   "execution_count": 7,
   "id": "540ebbc2",
   "metadata": {},
   "outputs": [
    {
     "name": "stdout",
     "output_type": "stream",
     "text": [
      "     학번        이름     점수\n",
      "0  1000     Steve  90.72\n",
      "1  1001     James  78.09\n",
      "2  1002    Doyeon  98.43\n",
      "3  1003      Jane  64.19\n",
      "4  1004  Pilwoong  81.30\n",
      "5  1005      Tony  99.14\n"
     ]
    }
   ],
   "source": [
    "# 딕셔너리로 생성하기\n",
    "data = {\n",
    "    '학번' : ['1000', '1001', '1002', '1003', '1004', '1005'],\n",
    "    '이름' : [ 'Steve', 'James', 'Doyeon', 'Jane', 'Pilwoong', 'Tony'],\n",
    "    '점수': [90.72, 78.09, 98.43, 64.19, 81.30, 99.14]\n",
    "    }\n",
    "\n",
    "df = pd.DataFrame(data)\n",
    "print(df)\n"
   ]
  },
  {
   "cell_type": "code",
   "execution_count": 8,
   "id": "501dbe10",
   "metadata": {},
   "outputs": [
    {
     "name": "stdout",
     "output_type": "stream",
     "text": [
      "     학번        이름     점수\n",
      "0  1000     Steve  90.72\n",
      "1  1001     James  78.09\n",
      "2  1002    Doyeon  98.43\n",
      "3  1003      Jane  64.19\n",
      "4  1004  Pilwoong   81.3\n",
      "5  1005      Tony  99.14\n"
     ]
    }
   ],
   "source": [
    "# 넘파이 ndarray로 생성하기\n",
    "import numpy as np\n",
    "data = np.array([\n",
    "    ['1000', 'Steve', 90.72], \n",
    "    ['1001', 'James', 78.09], \n",
    "    ['1002', 'Doyeon', 98.43], \n",
    "    ['1003', 'Jane', 64.19], \n",
    "    ['1004', 'Pilwoong', 81.30],\n",
    "    ['1005', 'Tony', 99.14],\n",
    "])\n",
    "df = pd.DataFrame(data, columns=['학번', '이름', '점수'])\n",
    "print(df)"
   ]
  },
  {
   "cell_type": "markdown",
   "id": "26327a1a",
   "metadata": {},
   "source": [
    "### 3) 데이터프레임 조회하기"
   ]
  },
  {
   "cell_type": "code",
   "execution_count": 9,
   "id": "7010b66b",
   "metadata": {},
   "outputs": [
    {
     "name": "stdout",
     "output_type": "stream",
     "text": [
      "     학번        이름     점수\n",
      "0  1000     Steve  90.72\n",
      "1  1001     James  78.09\n",
      "2  1002    Doyeon  98.43\n",
      "3  1003      Jane  64.19\n",
      "4  1004  Pilwoong   81.3\n",
      "     학번      이름     점수\n",
      "0  1000   Steve  90.72\n",
      "1  1001   James  78.09\n",
      "2  1002  Doyeon  98.43\n"
     ]
    }
   ],
   "source": [
    "# 앞부분 조회\n",
    "print(df.head())  # 기본값 5\n",
    "print(df.head(3)) # 3개 행 조회"
   ]
  },
  {
   "cell_type": "code",
   "execution_count": 10,
   "id": "80d64665",
   "metadata": {},
   "outputs": [
    {
     "name": "stdout",
     "output_type": "stream",
     "text": [
      "     학번        이름     점수\n",
      "1  1001     James  78.09\n",
      "2  1002    Doyeon  98.43\n",
      "3  1003      Jane  64.19\n",
      "4  1004  Pilwoong   81.3\n",
      "5  1005      Tony  99.14\n",
      "     학번        이름     점수\n",
      "4  1004  Pilwoong   81.3\n",
      "5  1005      Tony  99.14\n"
     ]
    }
   ],
   "source": [
    "# 뒷부분 조회\n",
    "print(df.tail())  # 기본값 5\n",
    "print(df.tail(2)) # 2개 행 조회"
   ]
  },
  {
   "cell_type": "code",
   "execution_count": 12,
   "id": "66194b72",
   "metadata": {},
   "outputs": [
    {
     "name": "stdout",
     "output_type": "stream",
     "text": [
      "0    1000\n",
      "1    1001\n",
      "2    1002\n",
      "3    1003\n",
      "4    1004\n",
      "5    1005\n",
      "Name: 학번, dtype: object\n"
     ]
    }
   ],
   "source": [
    "# 해당 열(column) 조회\n",
    "print(df[\"학번\"])"
   ]
  }
 ],
 "metadata": {
  "kernelspec": {
   "display_name": "py310",
   "language": "python",
   "name": "python3"
  },
  "language_info": {
   "codemirror_mode": {
    "name": "ipython",
    "version": 3
   },
   "file_extension": ".py",
   "mimetype": "text/x-python",
   "name": "python",
   "nbconvert_exporter": "python",
   "pygments_lexer": "ipython3",
   "version": "3.10.18"
  }
 },
 "nbformat": 4,
 "nbformat_minor": 5
}
