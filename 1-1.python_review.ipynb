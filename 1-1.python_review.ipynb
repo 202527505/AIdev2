{
 "cells": [
  {
   "cell_type": "markdown",
   "id": "0a9967a4",
   "metadata": {},
   "source": [
    "## Python Review\n",
    "\n",
    "### 기본 데이타형"
   ]
  },
  {
   "cell_type": "code",
   "execution_count": 3,
   "id": "5923a235",
   "metadata": {},
   "outputs": [
    {
     "data": {
      "text/plain": [
       "int"
      ]
     },
     "execution_count": 3,
     "metadata": {},
     "output_type": "execute_result"
    }
   ],
   "source": [
    "## Int\n",
    "a = 123\n",
    "type(a)"
   ]
  },
  {
   "cell_type": "code",
   "execution_count": 6,
   "id": "1388ca0e",
   "metadata": {},
   "outputs": [
    {
     "data": {
      "text/plain": [
       "float"
      ]
     },
     "execution_count": 6,
     "metadata": {},
     "output_type": "execute_result"
    }
   ],
   "source": [
    "## Float\n",
    "a = 3.14\n",
    "type(a)"
   ]
  },
  {
   "cell_type": "code",
   "execution_count": 8,
   "id": "5eb8b688",
   "metadata": {},
   "outputs": [
    {
     "data": {
      "text/plain": [
       "bool"
      ]
     },
     "execution_count": 8,
     "metadata": {},
     "output_type": "execute_result"
    }
   ],
   "source": [
    "## Boolean\n",
    "a = 1==2\n",
    "type(a)"
   ]
  },
  {
   "cell_type": "code",
   "execution_count": 9,
   "id": "87bd979c",
   "metadata": {},
   "outputs": [
    {
     "data": {
      "text/plain": [
       "str"
      ]
     },
     "execution_count": 9,
     "metadata": {},
     "output_type": "execute_result"
    }
   ],
   "source": [
    "## String\n",
    "a = \"AI프로그래밍 수업 환영합니다\"\n",
    "type(a)"
   ]
  },
  {
   "cell_type": "markdown",
   "id": "740d0d5e",
   "metadata": {},
   "source": [
    "### 연산자"
   ]
  },
  {
   "cell_type": "code",
   "execution_count": 15,
   "id": "ffe8699f",
   "metadata": {},
   "outputs": [
    {
     "name": "stdout",
     "output_type": "stream",
     "text": [
      "a = 3, b = 4, c = 6\n",
      "a+b = 7\n",
      "b-c = -2\n",
      "a*b = 12\n",
      "b/a = 1.3333333333333333\n",
      "c/a = 2.0\n"
     ]
    }
   ],
   "source": [
    "## 더하기, 빼기, 곱하기, 나누기\n",
    "a = 3; b = 4; c = 6\n",
    "print(f'a = {a}, b = {b}, c = {c}')\n",
    "print(f'a+b = {a+b}')\n",
    "print(f'b-c = {b-c}')\n",
    "print(f'a*b = {a*b}')\n",
    "print(f'b/a = {b/a}')\n",
    "print(f'c/a = {c/a}')"
   ]
  },
  {
   "cell_type": "code",
   "execution_count": 16,
   "id": "199531af",
   "metadata": {},
   "outputs": [
    {
     "name": "stdout",
     "output_type": "stream",
     "text": [
      "b/a 몫: 1\n",
      "b/a 나머지: 1\n",
      "b^a = 64\n"
     ]
    }
   ],
   "source": [
    "## 몫, 나머지, 제곱\n",
    "print(f'b/a 몫: {b//a}')\n",
    "print(f'b/a 나머지: {b%a}')\n",
    "print(f'b^a = {b**a}')"
   ]
  },
  {
   "cell_type": "code",
   "execution_count": 18,
   "id": "0caf39b8",
   "metadata": {},
   "outputs": [
    {
     "name": "stdout",
     "output_type": "stream",
     "text": [
      "1\n",
      "2\n",
      "3\n",
      "4\n",
      "5\n"
     ]
    }
   ],
   "source": [
    "## Increment, Decrement\n",
    "a = 0\n",
    "for i in range(5):\n",
    "    a += 1\n",
    "    print(a)"
   ]
  },
  {
   "cell_type": "markdown",
   "id": "b1b3e341",
   "metadata": {},
   "source": [
    "### 조건문"
   ]
  },
  {
   "cell_type": "code",
   "execution_count": null,
   "id": "a5ee61c4",
   "metadata": {},
   "outputs": [],
   "source": [
    "## 점수를 입력하면 학점을 출력하는 코드를 만들어보자\n",
    "# 90점 이상: A, 75점 이상: B, 60점 이상: C, 40점 이상: D, 40점 미만: F\n",
    "\n",
    "score = input()\n",
    "# INPUT YOUR CODE BELOW"
   ]
  },
  {
   "cell_type": "markdown",
   "id": "8c65f2ff",
   "metadata": {},
   "source": [
    "### 반복문"
   ]
  },
  {
   "cell_type": "code",
   "execution_count": null,
   "id": "0a964124",
   "metadata": {},
   "outputs": [],
   "source": [
    "## 숫자 n을 입력하면 구구단의 n단을 출력하는 코드를 만들어보자\n",
    "\n",
    "n = input()\n",
    "# INPUT YOUR CODE BELOW"
   ]
  },
  {
   "cell_type": "markdown",
   "id": "bca3684d",
   "metadata": {},
   "source": [
    "### 리스트, 튜플\n",
    "튜플은 값을 수정할 수 없으며, 읽기만 가능"
   ]
  },
  {
   "cell_type": "code",
   "execution_count": 4,
   "id": "2cb5a26f",
   "metadata": {},
   "outputs": [],
   "source": [
    "a = [1, 2, \"hi\", [1,2,3]]\n",
    "b = (1, 2, \"hi\", [1,2,3])"
   ]
  },
  {
   "cell_type": "code",
   "execution_count": 6,
   "id": "6eae7383",
   "metadata": {},
   "outputs": [
    {
     "data": {
      "text/plain": [
       "[0, 2, 'hi', [1, 2, 3]]"
      ]
     },
     "execution_count": 6,
     "metadata": {},
     "output_type": "execute_result"
    }
   ],
   "source": [
    "a[0] = 0\n",
    "a"
   ]
  },
  {
   "cell_type": "code",
   "execution_count": 12,
   "id": "adafc741",
   "metadata": {},
   "outputs": [
    {
     "data": {
      "text/plain": [
       "6"
      ]
     },
     "execution_count": 12,
     "metadata": {},
     "output_type": "execute_result"
    }
   ],
   "source": [
    "a = list(range(1,10)) # [1, 2, 3, 4, 5, 6, 7, 8, 9]\n",
    "a[3:7]\n",
    "a[5]\n"
   ]
  },
  {
   "cell_type": "markdown",
   "id": "1f0ed20e",
   "metadata": {},
   "source": [
    "### 딕셔너리"
   ]
  },
  {
   "cell_type": "code",
   "execution_count": 17,
   "id": "f6133a9a",
   "metadata": {},
   "outputs": [
    {
     "name": "stdout",
     "output_type": "stream",
     "text": [
      "dict_keys(['롯데', 'LG', '두산', '키움', 'NC', '한화', '삼성', '기아', 'KT', 'SSG'])\n",
      "dict_values(['부산', '서울', '서울', '서울', '창원', '대전', '대구', '광주', '수원', '인천'])\n",
      "None\n"
     ]
    }
   ],
   "source": [
    "baseball = {\"롯데\":\"부산\", \"LG\":\"서울\", \"두산\":\"서울\", \"키움\":\"서울\", \"NC\":\"창원\", \"한화\":\"대전\", \"삼성\":\"대구\", \"기아\":\"광주\", \"KT\":\"수원\", \"SSG\":\"인천\"}\n",
    "print(baseball.keys())\n",
    "print(baseball.values())\n",
    "a = input()\n",
    "print(baseball.get(a))"
   ]
  },
  {
   "cell_type": "markdown",
   "id": "06a3a45a",
   "metadata": {},
   "source": [
    "### 함수"
   ]
  },
  {
   "cell_type": "code",
   "execution_count": null,
   "id": "aee1e9bf",
   "metadata": {},
   "outputs": [],
   "source": [
    "## 출석, 과제, 중간, 기말 각각 10%, 30%, 30%, 30% 비율을 반영하여 총 성적을 구하는 함수를 만들어보자\n",
    "def getTotalScore(attendance, assignments, mid, final):\n",
    "    # INPUT YOUR CODE BELOW\n",
    "    return total\n",
    "\n",
    "## 총 성적을 argument로 받아 학점을 반환하는 함수를 만들어보자\n",
    "# 90점 이상: A, 75점 이상: B, 60점 이상: C, 40점 이상: D, 40점 미만: F\n",
    "def getGrade(total):\n",
    "    # INPUT YOUR CODE BELOW\n",
    "    return grade\n",
    "\n",
    "attendance = input()\n",
    "assignments = input()\n",
    "mid = input()\n",
    "final = input()\n",
    "total = getTotalScore(attendance, assignments, mid, final)\n",
    "grade = getGrade(total)\n",
    "print(f'총 점수는 {total}점이고, 학점은 {grade}입니다.')\n"
   ]
  }
 ],
 "metadata": {
  "kernelspec": {
   "display_name": "py310",
   "language": "python",
   "name": "python3"
  },
  "language_info": {
   "codemirror_mode": {
    "name": "ipython",
    "version": 3
   },
   "file_extension": ".py",
   "mimetype": "text/x-python",
   "name": "python",
   "nbconvert_exporter": "python",
   "pygments_lexer": "ipython3",
   "version": "3.10.18"
  }
 },
 "nbformat": 4,
 "nbformat_minor": 5
}
